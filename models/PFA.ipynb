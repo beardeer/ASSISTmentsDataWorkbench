{
 "cells": [
  {
   "cell_type": "code",
   "execution_count": 12,
   "metadata": {
    "collapsed": true
   },
   "outputs": [],
   "source": [
    "%matplotlib inline"
   ]
  },
  {
   "cell_type": "code",
   "execution_count": 13,
   "metadata": {
    "collapsed": true
   },
   "outputs": [],
   "source": [
    "import numpy as np\n",
    "import pandas as pd\n",
    "\n",
    "from sklearn.linear_model import LogisticRegression\n",
    "from sklearn import metrics, cross_validation, preprocessing"
   ]
  },
  {
   "cell_type": "code",
   "execution_count": 14,
   "metadata": {
    "collapsed": true
   },
   "outputs": [],
   "source": [
    "k = 5"
   ]
  },
  {
   "cell_type": "code",
   "execution_count": 15,
   "metadata": {
    "collapsed": false
   },
   "outputs": [],
   "source": [
    "input_data = pd.read_csv('../data/CAT_PFA.csv')"
   ]
  },
  {
   "cell_type": "code",
   "execution_count": 16,
   "metadata": {
    "collapsed": false
   },
   "outputs": [
    {
     "data": {
      "text/html": [
       "<div>\n",
       "<table border=\"1\" class=\"dataframe\">\n",
       "  <thead>\n",
       "    <tr style=\"text-align: right;\">\n",
       "      <th></th>\n",
       "      <th>correctness</th>\n",
       "      <th>skill_id</th>\n",
       "      <th>prior_correct</th>\n",
       "      <th>prior_incorrect</th>\n",
       "      <th>difficulty</th>\n",
       "    </tr>\n",
       "  </thead>\n",
       "  <tbody>\n",
       "    <tr>\n",
       "      <th>count</th>\n",
       "      <td>607025.000000</td>\n",
       "      <td>607025.000000</td>\n",
       "      <td>607025.000000</td>\n",
       "      <td>607025.000000</td>\n",
       "      <td>607025.000000</td>\n",
       "    </tr>\n",
       "    <tr>\n",
       "      <th>mean</th>\n",
       "      <td>0.755288</td>\n",
       "      <td>48.066729</td>\n",
       "      <td>36.674213</td>\n",
       "      <td>9.651421</td>\n",
       "      <td>0.244712</td>\n",
       "    </tr>\n",
       "    <tr>\n",
       "      <th>std</th>\n",
       "      <td>0.429916</td>\n",
       "      <td>48.349030</td>\n",
       "      <td>53.338152</td>\n",
       "      <td>15.906151</td>\n",
       "      <td>0.295471</td>\n",
       "    </tr>\n",
       "    <tr>\n",
       "      <th>min</th>\n",
       "      <td>0.000000</td>\n",
       "      <td>1.000000</td>\n",
       "      <td>0.000000</td>\n",
       "      <td>0.000000</td>\n",
       "      <td>0.000000</td>\n",
       "    </tr>\n",
       "    <tr>\n",
       "      <th>25%</th>\n",
       "      <td>1.000000</td>\n",
       "      <td>9.000000</td>\n",
       "      <td>4.000000</td>\n",
       "      <td>1.000000</td>\n",
       "      <td>0.000000</td>\n",
       "    </tr>\n",
       "    <tr>\n",
       "      <th>50%</th>\n",
       "      <td>1.000000</td>\n",
       "      <td>36.000000</td>\n",
       "      <td>15.000000</td>\n",
       "      <td>4.000000</td>\n",
       "      <td>0.122449</td>\n",
       "    </tr>\n",
       "    <tr>\n",
       "      <th>75%</th>\n",
       "      <td>1.000000</td>\n",
       "      <td>56.000000</td>\n",
       "      <td>47.000000</td>\n",
       "      <td>11.000000</td>\n",
       "      <td>0.375000</td>\n",
       "    </tr>\n",
       "    <tr>\n",
       "      <th>max</th>\n",
       "      <td>1.000000</td>\n",
       "      <td>436.000000</td>\n",
       "      <td>480.000000</td>\n",
       "      <td>175.000000</td>\n",
       "      <td>1.000000</td>\n",
       "    </tr>\n",
       "  </tbody>\n",
       "</table>\n",
       "</div>"
      ],
      "text/plain": [
       "         correctness       skill_id  prior_correct  prior_incorrect  \\\n",
       "count  607025.000000  607025.000000  607025.000000    607025.000000   \n",
       "mean        0.755288      48.066729      36.674213         9.651421   \n",
       "std         0.429916      48.349030      53.338152        15.906151   \n",
       "min         0.000000       1.000000       0.000000         0.000000   \n",
       "25%         1.000000       9.000000       4.000000         1.000000   \n",
       "50%         1.000000      36.000000      15.000000         4.000000   \n",
       "75%         1.000000      56.000000      47.000000        11.000000   \n",
       "max         1.000000     436.000000     480.000000       175.000000   \n",
       "\n",
       "          difficulty  \n",
       "count  607025.000000  \n",
       "mean        0.244712  \n",
       "std         0.295471  \n",
       "min         0.000000  \n",
       "25%         0.000000  \n",
       "50%         0.122449  \n",
       "75%         0.375000  \n",
       "max         1.000000  "
      ]
     },
     "execution_count": 16,
     "metadata": {},
     "output_type": "execute_result"
    }
   ],
   "source": [
    "# input_data.describe()"
   ]
  },
  {
   "cell_type": "code",
   "execution_count": 17,
   "metadata": {
    "collapsed": false
   },
   "outputs": [],
   "source": [
    "data_len = len(input_data)"
   ]
  },
  {
   "cell_type": "code",
   "execution_count": 18,
   "metadata": {
    "collapsed": false,
    "scrolled": true
   },
   "outputs": [],
   "source": [
    "y, x = input_data.ix[:,0].as_matrix(), input_data.ix[:,1:].as_matrix()"
   ]
  },
  {
   "cell_type": "code",
   "execution_count": 19,
   "metadata": {
    "collapsed": false
   },
   "outputs": [],
   "source": [
    "kf = cross_validation.KFold(data_len, n_folds = k)"
   ]
  },
  {
   "cell_type": "code",
   "execution_count": 20,
   "metadata": {
    "collapsed": true
   },
   "outputs": [],
   "source": [
    "auc, r2, rmse = [], [], []"
   ]
  },
  {
   "cell_type": "code",
   "execution_count": 21,
   "metadata": {
    "collapsed": false
   },
   "outputs": [],
   "source": [
    "for train, test in kf:\n",
    "    x_train, x_test, y_train, y_test = x[train], x[test], y[train], y[test]\n",
    "    \n",
    "    encoder = preprocessing.OneHotEncoder()\n",
    "    encoder.fit(np.vstack((x_train, x_test)))\n",
    "    x_train = encoder.transform(x_train)\n",
    "    x_test = encoder.transform(x_test)\n",
    "    \n",
    "    model = LogisticRegression()\n",
    "    model = model.fit(x_train, y_train)\n",
    "    y_pred = model.predict_proba(x_test)[:, 1]\n",
    "    \n",
    "    auc.append(metrics.roc_auc_score(y_test, y_pred))\n",
    "    r2.append(metrics.r2_score(y_test, y_pred))\n",
    "    rmse.append(metrics.mean_squared_error(y_test, y_pred)**0.5)"
   ]
  },
  {
   "cell_type": "code",
   "execution_count": 22,
   "metadata": {
    "collapsed": false
   },
   "outputs": [
    {
     "name": "stdout",
     "output_type": "stream",
     "text": [
      "auc: 0.912631872936\n",
      "r2: 0.466252801846\n",
      "rmse: 0.313754221884\n"
     ]
    }
   ],
   "source": [
    "print 'auc:', np.mean(auc)\n",
    "print 'r2:', np.mean(r2)\n",
    "print 'rmse:', np.mean(rmse)"
   ]
  },
  {
   "cell_type": "code",
   "execution_count": null,
   "metadata": {
    "collapsed": true
   },
   "outputs": [],
   "source": []
  }
 ],
 "metadata": {
  "kernelspec": {
   "display_name": "Python 2",
   "language": "python",
   "name": "python2"
  },
  "language_info": {
   "codemirror_mode": {
    "name": "ipython",
    "version": 2
   },
   "file_extension": ".py",
   "mimetype": "text/x-python",
   "name": "python",
   "nbconvert_exporter": "python",
   "pygments_lexer": "ipython2",
   "version": "2.7.11"
  }
 },
 "nbformat": 4,
 "nbformat_minor": 0
}
