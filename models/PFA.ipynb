{
 "cells": [
  {
   "cell_type": "code",
   "execution_count": 17,
   "metadata": {
    "collapsed": true
   },
   "outputs": [],
   "source": [
    "%matplotlib inline"
   ]
  },
  {
   "cell_type": "code",
   "execution_count": 18,
   "metadata": {
    "collapsed": true
   },
   "outputs": [],
   "source": [
    "import numpy as np\n",
    "import pandas as pd\n",
    "\n",
    "from sklearn.linear_model import LogisticRegression\n",
    "from sklearn import metrics, cross_validation, preprocessing\n",
    "from scipy import stats"
   ]
  },
  {
   "cell_type": "code",
   "execution_count": 19,
   "metadata": {
    "collapsed": false
   },
   "outputs": [],
   "source": [
    "input_data = pd.read_csv('../data/pfa_data.csv')"
   ]
  },
  {
   "cell_type": "code",
   "execution_count": 20,
   "metadata": {
    "collapsed": false
   },
   "outputs": [
    {
     "data": {
      "text/html": [
       "<div>\n",
       "<table border=\"1\" class=\"dataframe\">\n",
       "  <thead>\n",
       "    <tr style=\"text-align: right;\">\n",
       "      <th></th>\n",
       "      <th>label</th>\n",
       "      <th>seq_id</th>\n",
       "      <th>pre_correct</th>\n",
       "      <th>pre_incorrect</th>\n",
       "      <th>difficulty</th>\n",
       "    </tr>\n",
       "  </thead>\n",
       "  <tbody>\n",
       "    <tr>\n",
       "      <th>count</th>\n",
       "      <td>275458.000000</td>\n",
       "      <td>275458.000000</td>\n",
       "      <td>275458.000000</td>\n",
       "      <td>275458.000000</td>\n",
       "      <td>275458.000000</td>\n",
       "    </tr>\n",
       "    <tr>\n",
       "      <th>mean</th>\n",
       "      <td>0.658369</td>\n",
       "      <td>7478.809800</td>\n",
       "      <td>2.368550</td>\n",
       "      <td>2.555696</td>\n",
       "      <td>0.311267</td>\n",
       "    </tr>\n",
       "    <tr>\n",
       "      <th>std</th>\n",
       "      <td>0.474257</td>\n",
       "      <td>1520.395652</td>\n",
       "      <td>4.034113</td>\n",
       "      <td>5.291714</td>\n",
       "      <td>0.159669</td>\n",
       "    </tr>\n",
       "    <tr>\n",
       "      <th>min</th>\n",
       "      <td>0.000000</td>\n",
       "      <td>5870.000000</td>\n",
       "      <td>0.000000</td>\n",
       "      <td>0.000000</td>\n",
       "      <td>0.000000</td>\n",
       "    </tr>\n",
       "    <tr>\n",
       "      <th>25%</th>\n",
       "      <td>0.000000</td>\n",
       "      <td>6058.000000</td>\n",
       "      <td>0.000000</td>\n",
       "      <td>0.000000</td>\n",
       "      <td>0.191057</td>\n",
       "    </tr>\n",
       "    <tr>\n",
       "      <th>50%</th>\n",
       "      <td>1.000000</td>\n",
       "      <td>7014.000000</td>\n",
       "      <td>1.000000</td>\n",
       "      <td>1.000000</td>\n",
       "      <td>0.298611</td>\n",
       "    </tr>\n",
       "    <tr>\n",
       "      <th>75%</th>\n",
       "      <td>1.000000</td>\n",
       "      <td>8564.000000</td>\n",
       "      <td>3.000000</td>\n",
       "      <td>3.000000</td>\n",
       "      <td>0.410714</td>\n",
       "    </tr>\n",
       "    <tr>\n",
       "      <th>max</th>\n",
       "      <td>1.000000</td>\n",
       "      <td>13362.000000</td>\n",
       "      <td>78.000000</td>\n",
       "      <td>143.000000</td>\n",
       "      <td>1.000000</td>\n",
       "    </tr>\n",
       "  </tbody>\n",
       "</table>\n",
       "</div>"
      ],
      "text/plain": [
       "               label         seq_id    pre_correct  pre_incorrect  \\\n",
       "count  275458.000000  275458.000000  275458.000000  275458.000000   \n",
       "mean        0.658369    7478.809800       2.368550       2.555696   \n",
       "std         0.474257    1520.395652       4.034113       5.291714   \n",
       "min         0.000000    5870.000000       0.000000       0.000000   \n",
       "25%         0.000000    6058.000000       0.000000       0.000000   \n",
       "50%         1.000000    7014.000000       1.000000       1.000000   \n",
       "75%         1.000000    8564.000000       3.000000       3.000000   \n",
       "max         1.000000   13362.000000      78.000000     143.000000   \n",
       "\n",
       "          difficulty  \n",
       "count  275458.000000  \n",
       "mean        0.311267  \n",
       "std         0.159669  \n",
       "min         0.000000  \n",
       "25%         0.191057  \n",
       "50%         0.298611  \n",
       "75%         0.410714  \n",
       "max         1.000000  "
      ]
     },
     "execution_count": 20,
     "metadata": {},
     "output_type": "execute_result"
    }
   ],
   "source": [
    "input_data.describe()"
   ]
  },
  {
   "cell_type": "code",
   "execution_count": 21,
   "metadata": {
    "collapsed": false
   },
   "outputs": [],
   "source": [
    "data_len = len(input_data)"
   ]
  },
  {
   "cell_type": "code",
   "execution_count": 22,
   "metadata": {
    "collapsed": false,
    "scrolled": true
   },
   "outputs": [],
   "source": [
    "y, x = input_data.ix[:,0].as_matrix(), input_data.ix[:,1:].as_matrix()"
   ]
  },
  {
   "cell_type": "code",
   "execution_count": 23,
   "metadata": {
    "collapsed": false
   },
   "outputs": [],
   "source": [
    "kf = cross_validation.KFold(data_len, n_folds=5)"
   ]
  },
  {
   "cell_type": "code",
   "execution_count": 24,
   "metadata": {
    "collapsed": true
   },
   "outputs": [],
   "source": [
    "auc, r2, rmse = [], [], []"
   ]
  },
  {
   "cell_type": "code",
   "execution_count": 25,
   "metadata": {
    "collapsed": false
   },
   "outputs": [],
   "source": [
    "for train, test in kf:\n",
    "    x_train, x_test, y_train, y_test = x[train], x[test], y[train], y[test]\n",
    "    \n",
    "    encoder = preprocessing.OneHotEncoder()\n",
    "    encoder.fit(np.vstack((x_train, x_test)))\n",
    "    x_train = encoder.transform(x_train)\n",
    "    x_test = encoder.transform(x_test)\n",
    "    \n",
    "    model = LogisticRegression()\n",
    "    model = model.fit(x_train, y_train)\n",
    "    y_pred = model.predict_proba(x_test)[:, 1]\n",
    "    \n",
    "    auc.append(metrics.roc_auc_score(y_test, y_pred))\n",
    "    r2.append(metrics.r2_score(y_test, y_pred))\n",
    "    rmse.append(metrics.mean_squared_error(y_test, y_pred)**0.5)"
   ]
  },
  {
   "cell_type": "code",
   "execution_count": 26,
   "metadata": {
    "collapsed": false
   },
   "outputs": [
    {
     "name": "stdout",
     "output_type": "stream",
     "text": [
      "auc 0.710750245037\n",
      "r2 0.111823544773\n",
      "rmse 0.442628293446\n"
     ]
    }
   ],
   "source": [
    "print 'auc', np.mean(auc)\n",
    "print 'r2', np.mean(r2)\n",
    "print 'rmse', np.mean(rmse)"
   ]
  },
  {
   "cell_type": "code",
   "execution_count": null,
   "metadata": {
    "collapsed": true
   },
   "outputs": [],
   "source": []
  }
 ],
 "metadata": {
  "kernelspec": {
   "display_name": "Python 2",
   "language": "python",
   "name": "python2"
  },
  "language_info": {
   "codemirror_mode": {
    "name": "ipython",
    "version": 2
   },
   "file_extension": ".py",
   "mimetype": "text/x-python",
   "name": "python",
   "nbconvert_exporter": "python",
   "pygments_lexer": "ipython2",
   "version": "2.7.11"
  }
 },
 "nbformat": 4,
 "nbformat_minor": 0
}
